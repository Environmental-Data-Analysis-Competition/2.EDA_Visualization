{
 "cells": [
  {
   "cell_type": "markdown",
   "metadata": {},
   "source": [
    "1. 라이브러리 설치 및 데이터 불러오기"
   ]
  },
  {
   "cell_type": "code",
   "execution_count": null,
   "metadata": {},
   "outputs": [],
   "source": [
    "# 라이브러리 설치\n",
    "# !pip install pandas openpyxl\n",
    "# !pip install geopandas"
   ]
  },
  {
   "cell_type": "code",
   "execution_count": null,
   "metadata": {},
   "outputs": [],
   "source": [
    "# 라이브러리\n",
    "\n",
    "# excel 파일 불러오기\n",
    "import pandas as pd\n",
    "import numpy as np\n",
    "import geopandas as gpd"
   ]
  },
  {
   "cell_type": "code",
   "execution_count": null,
   "metadata": {},
   "outputs": [],
   "source": [
    "# SHP 파일 경로\n",
    "shp_path = './sig_20230729/sig.shp'\n",
    "updated_shp_path = './sig_20230729/sig_updated.shp'\n",
    "\n",
    "# SHP 파일 로드\n",
    "gdf = gpd.read_file(shp_path, encoding='cp949')\n",
    "\n",
    "gdf['SIG_CD'] = gdf['SIG_CD'].astype(str)\n",
    "\n",
    "# 데이터프레임 확인\n",
    "print(gdf.head())"
   ]
  },
  {
   "cell_type": "markdown",
   "metadata": {},
   "source": [
    "2. 데이터 수정"
   ]
  },
  {
   "cell_type": "code",
   "execution_count": null,
   "metadata": {},
   "outputs": [],
   "source": [
    "# 특정 셀 수정 (여기서는 SIG_CD가 11110인 행의 SIG_KOR_NM을 수정)\n",
    "gdf.loc[gdf['SIG_CD'] == '41111', 'SIG_CD'] = '41110'\n",
    "gdf.loc[gdf['SIG_CD'] == '41113', 'SIG_CD'] = '41110'\n",
    "gdf.loc[gdf['SIG_CD'] == '41115', 'SIG_CD'] = '41110'\n",
    "gdf.loc[gdf['SIG_CD'] == '41117', 'SIG_CD'] = '41110'\n",
    "gdf.loc[gdf['SIG_CD'] == '41131', 'SIG_CD'] = '41130'\n",
    "gdf.loc[gdf['SIG_CD'] == '41133', 'SIG_CD'] = '41130'\n",
    "gdf.loc[gdf['SIG_CD'] == '41135', 'SIG_CD'] = '41130'\n",
    "\n",
    "\n",
    "# 데이터프레임 확인\n",
    "print(gdf.loc[gdf['SIG_CD'] == '41110'])\n",
    "print(gdf.loc[gdf['SIG_CD'] == '41130'])"
   ]
  },
  {
   "cell_type": "code",
   "execution_count": null,
   "metadata": {},
   "outputs": [],
   "source": [
    "gdf.loc[gdf['SIG_CD'] == '41171', 'SIG_CD'] = '41170'\n",
    "gdf.loc[gdf['SIG_CD'] == '41173', 'SIG_CD'] = '41170'\n",
    "gdf.loc[gdf['SIG_CD'] == '41271', 'SIG_CD'] = '41270'\n",
    "gdf.loc[gdf['SIG_CD'] == '41273', 'SIG_CD'] = '41270'\n",
    "gdf.loc[gdf['SIG_CD'] == '41281', 'SIG_CD'] = '41280'\n",
    "gdf.loc[gdf['SIG_CD'] == '41285', 'SIG_CD'] = '41280'\n",
    "gdf.loc[gdf['SIG_CD'] == '41287', 'SIG_CD'] = '41280'\n",
    "\n",
    "print(gdf.loc[gdf['SIG_CD'] == '41170'])\n",
    "print(gdf.loc[gdf['SIG_CD'] == '41270'])\n",
    "print(gdf.loc[gdf['SIG_CD'] == '41280'])"
   ]
  },
  {
   "cell_type": "code",
   "execution_count": null,
   "metadata": {},
   "outputs": [],
   "source": [
    "gdf.loc[gdf['SIG_CD'] == '41461', 'SIG_CD'] = '41460'\n",
    "gdf.loc[gdf['SIG_CD'] == '41463', 'SIG_CD'] = '41460'\n",
    "gdf.loc[gdf['SIG_CD'] == '41465', 'SIG_CD'] = '41460'\n",
    "gdf.loc[gdf['SIG_CD'] == '43111', 'SIG_CD'] = '43110'\n",
    "gdf.loc[gdf['SIG_CD'] == '43112', 'SIG_CD'] = '43110'\n",
    "gdf.loc[gdf['SIG_CD'] == '43113', 'SIG_CD'] = '43110'\n",
    "gdf.loc[gdf['SIG_CD'] == '43114', 'SIG_CD'] = '43110'\n",
    "\n",
    "\n",
    "print(gdf.loc[gdf['SIG_CD'] == '41460'])\n",
    "print(gdf.loc[gdf['SIG_CD'] == '43110'])"
   ]
  },
  {
   "cell_type": "code",
   "execution_count": null,
   "metadata": {},
   "outputs": [],
   "source": [
    "gdf.loc[gdf['SIG_CD'] == '44131', 'SIG_CD'] = '44130'\n",
    "gdf.loc[gdf['SIG_CD'] == '44133', 'SIG_CD'] = '44130'\n",
    "gdf.loc[gdf['SIG_CD'] == '45111', 'SIG_CD'] = '45110'\n",
    "gdf.loc[gdf['SIG_CD'] == '45113', 'SIG_CD'] = '45110'\n",
    "gdf.loc[gdf['SIG_CD'] == '47111', 'SIG_CD'] = '47110'\n",
    "gdf.loc[gdf['SIG_CD'] == '47113', 'SIG_CD'] = '47110'\n",
    "\n",
    "print(gdf.loc[gdf['SIG_CD'] == '44130'])\n",
    "print(gdf.loc[gdf['SIG_CD'] == '45110'])\n",
    "print(gdf.loc[gdf['SIG_CD'] == '47110'])"
   ]
  },
  {
   "cell_type": "code",
   "execution_count": null,
   "metadata": {},
   "outputs": [],
   "source": [
    "gdf.loc[gdf['SIG_CD'] == '48121', 'SIG_CD'] = '48120'\n",
    "gdf.loc[gdf['SIG_CD'] == '48123', 'SIG_CD'] = '48120'\n",
    "gdf.loc[gdf['SIG_CD'] == '48125', 'SIG_CD'] = '48120'\n",
    "gdf.loc[gdf['SIG_CD'] == '48127', 'SIG_CD'] = '48120'\n",
    "gdf.loc[gdf['SIG_CD'] == '48129', 'SIG_CD'] = '48120'\n",
    "\n",
    "print(gdf.loc[gdf['SIG_CD'] == '48120'])"
   ]
  },
  {
   "cell_type": "code",
   "execution_count": null,
   "metadata": {},
   "outputs": [],
   "source": [
    "# 수정된 데이터 저장\n",
    "gdf.to_file(updated_shp_path, encoding='utf-8')\n",
    "\n",
    "# 수정된 SHP 파일 로드하여 확인\n",
    "gdf_updated = gpd.read_file(updated_shp_path, encoding='utf-8')\n",
    "print(gdf_updated.loc[gdf_updated['SIG_CD'] == '48120'])"
   ]
  }
 ],
 "metadata": {
  "kernelspec": {
   "display_name": "Python 3",
   "language": "python",
   "name": "python3"
  },
  "language_info": {
   "codemirror_mode": {
    "name": "ipython",
    "version": 3
   },
   "file_extension": ".py",
   "mimetype": "text/x-python",
   "name": "python",
   "nbconvert_exporter": "python",
   "pygments_lexer": "ipython3",
   "version": "3.11.5"
  }
 },
 "nbformat": 4,
 "nbformat_minor": 2
}
